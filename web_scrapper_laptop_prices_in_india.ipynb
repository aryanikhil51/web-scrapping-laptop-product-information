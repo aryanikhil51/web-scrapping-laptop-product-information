{
  "nbformat": 4,
  "nbformat_minor": 0,
  "metadata": {
    "colab": {
      "name": "web scrapper laptop prices in india.ipynb",
      "provenance": [],
      "collapsed_sections": []
    },
    "kernelspec": {
      "name": "python3",
      "display_name": "Python 3"
    },
    "language_info": {
      "name": "python"
    }
  },
  "cells": [
    {
      "cell_type": "markdown",
      "source": [
        "### WEB SCRAPPING  LAPTOPS PRODUCT INFORMATION AT FLIPKART\n",
        "\n",
        "*** \n",
        "## Information extracted :\n",
        "    product_name\n",
        "    prices\n",
        "    processor brand\n",
        "    processor name\n",
        "    ram\n",
        "    graphic card\n",
        "    operating system"
      ],
      "metadata": {
        "id": "B17fZdue4nPD"
      }
    },
    {
      "cell_type": "markdown",
      "source": [
        "## Importing necessary libraries"
      ],
      "metadata": {
        "id": "m7bXP3-l5I-W"
      }
    },
    {
      "cell_type": "code",
      "execution_count": 12,
      "metadata": {
        "id": "QikjQMBz9Ust"
      },
      "outputs": [],
      "source": [
        "!pip install requests --quiet"
      ]
    },
    {
      "cell_type": "code",
      "source": [
        "import requests\n",
        "from bs4 import BeautifulSoup\n",
        "import pandas as pd\n",
        "import numpy as np"
      ],
      "metadata": {
        "id": "YN3WBD6e_Oai"
      },
      "execution_count": 13,
      "outputs": []
    },
    {
      "cell_type": "code",
      "source": [
        "page = 1\n",
        "column1 =[]\n",
        "column2 = []\n",
        "baseurl = 'https://www.flipkart.com'\n",
        "product_url=[]\n",
        "product_name = []\n",
        "prices = []\n",
        "data=[]"
      ],
      "metadata": {
        "id": "071VppvIouJq"
      },
      "execution_count": 14,
      "outputs": []
    },
    {
      "cell_type": "code",
      "source": [
        "pbrand = []\n",
        "pname=[]\n",
        "pgen=[]\n",
        "ssdc=[]\n",
        "ram=[]\n",
        "gp=[]\n",
        "os=[]"
      ],
      "metadata": {
        "id": "w9StATAb22Nk"
      },
      "execution_count": 15,
      "outputs": []
    },
    {
      "cell_type": "code",
      "source": [
        "product_name.clear()\n",
        "prices.clear()\n",
        "pbrand.clear()\n",
        "pname.clear()\n",
        "pgen.clear()\n",
        "ssdc.clear()\n",
        "ram.clear()\n",
        "gp.clear()\n",
        "os.clear()"
      ],
      "metadata": {
        "id": "bG_ITtEG9yU3"
      },
      "execution_count": 16,
      "outputs": []
    },
    {
      "cell_type": "code",
      "source": [
        "product_url.clear()"
      ],
      "metadata": {
        "id": "79uHFXoiA12N"
      },
      "execution_count": 17,
      "outputs": []
    },
    {
      "cell_type": "markdown",
      "source": [
        "## Extracting links of every laptop available "
      ],
      "metadata": {
        "id": "ArL9xWej5bhN"
      }
    },
    {
      "cell_type": "code",
      "source": [
        "page=1\n",
        "while page!=41 : \n",
        "  URLN = f\"https://www.flipkart.com/search?q=laptops&otracker=search&otracker1=search&marketplace=FLIPKART&as-show=on&as=off&page={page}\"\n",
        "  response=requests.get(URLN)\n",
        "  page_content=response.text\n",
        "  doc = BeautifulSoup(page_content, 'html.parser')\n",
        "  links = doc.find_all('a',class_='_1fQZEK')\n",
        "  for link in links :\n",
        "   product_url.append(baseurl+ link['href'])\n",
        "  page= page +1 "
      ],
      "metadata": {
        "id": "IyMfTH38t6Tm"
      },
      "execution_count": 18,
      "outputs": []
    },
    {
      "cell_type": "code",
      "source": [
        "len(product_url)"
      ],
      "metadata": {
        "colab": {
          "base_uri": "https://localhost:8080/"
        },
        "id": "4pbKAjknt6RS",
        "outputId": "c3005935-f0ce-47e7-98d6-af7384d79cbd"
      },
      "execution_count": 19,
      "outputs": [
        {
          "output_type": "execute_result",
          "data": {
            "text/plain": [
              "936"
            ]
          },
          "metadata": {},
          "execution_count": 19
        }
      ]
    },
    {
      "cell_type": "code",
      "source": [
        "product_url[:1]"
      ],
      "metadata": {
        "colab": {
          "base_uri": "https://localhost:8080/"
        },
        "id": "1Wo8GNcbt5-j",
        "outputId": "916aec33-2506-45f6-ddd0-d0dc115bb7e5"
      },
      "execution_count": 10,
      "outputs": [
        {
          "output_type": "execute_result",
          "data": {
            "text/plain": [
              "['https://www.flipkart.com/hp-core-i3-11th-gen-8-gb-512-gb-ssd-windows-11-home-15s-fq2629tu-thin-light-laptop/p/itm00019d89927f7?pid=COMGBH9JZ4ZFH9GH&lid=LSTCOMGBH9JZ4ZFH9GHN7FV3Q&marketplace=FLIPKART&q=laptops&store=6bo%2Fb5g&srno=s_1_1&otracker=search&otracker1=search&fm=organic&iid=b810bf9a-25fd-407d-9af7-2baa9f67c8af.COMGBH9JZ4ZFH9GH.SEARCH&ppt=None&ppn=None&ssid=1ru9hyph340000001649080671985&qH=c06ea84a1e3dc3c6']"
            ]
          },
          "metadata": {},
          "execution_count": 10
        }
      ]
    },
    {
      "cell_type": "markdown",
      "source": [
        "## Function to extract product information of laptops"
      ],
      "metadata": {
        "id": "VIQLc8UM6Fi8"
      }
    },
    {
      "cell_type": "code",
      "source": [
        "\n",
        "for link in product_url :\n",
        "  response2=requests.get(link) \n",
        "  product_content=response2.text\n",
        "  product_doc= BeautifulSoup(product_content,'html.parser') \n",
        "  try : topic_title_tags = product_doc.find('span',class_='B_NuCI').text.strip() \n",
        "  except : continue\n",
        "  product_name.append(topic_title_tags)\n",
        "  try : price=product_doc.find('div',class_='_30jeq3 _16Jk6d').text.strip()\n",
        "  except : price=0\n",
        "  prices.append(price) \n",
        "  for table in product_doc.find_all('table',class_='_14cfVK') :\n",
        "        for tr in table.find_all('tr',class_='_1s_Smc row'):\n",
        "          column_1 = tr.find('td',class_='_1hKmbr col col-3-12').text.strip()\n",
        "          column_2=tr.find('td',class_='URwL2w col col-9-12').text.strip()\n",
        "          if column_1==\"Processor Brand\":\n",
        "            pbrand.append(column_2)\n",
        "          elif column_1==\"Processor Name\":\n",
        "            pname.append(column_2) \n",
        "          elif column_1==\"Processor Generation\" :\n",
        "            pgen.append(column_2)\n",
        "          elif column_1==\"SSD Capacity\":\n",
        "            ssdc.append(column_2)\n",
        "          elif column_1==\"RAM\":\n",
        "            ram.append(column_2)\n",
        "          elif column_1==\"Graphic Processor\":\n",
        "            gp.append(column_2) \n",
        "          elif column_1==\"Operating System\":\n",
        "            os.append(column_2)  "
      ],
      "metadata": {
        "id": "_PKChYjZt53W"
      },
      "execution_count": 20,
      "outputs": []
    },
    {
      "cell_type": "markdown",
      "source": [
        "## Creation of data frame"
      ],
      "metadata": {
        "id": "pR16Ecg18VUC"
      }
    },
    {
      "cell_type": "code",
      "source": [
        "sdf=pd.DataFrame({'product_name':product_name,\n",
        "                  'prices':prices,\n",
        "                  'processor brand':pbrand ,\n",
        "                  'processor name':pname,\n",
        "                  'ram':ram,\n",
        "                  'graphic card':gp,\n",
        "                  'operating system':os})"
      ],
      "metadata": {
        "id": "wh8J2T-PhmdA"
      },
      "execution_count": 21,
      "outputs": []
    },
    {
      "cell_type": "code",
      "source": [
        "sdf"
      ],
      "metadata": {
        "colab": {
          "base_uri": "https://localhost:8080/",
          "height": 659
        },
        "id": "i1RjFytu_YXo",
        "outputId": "42c5f4ff-3777-4beb-d38c-cc1251b1e6ec"
      },
      "execution_count": 22,
      "outputs": [
        {
          "output_type": "execute_result",
          "data": {
            "text/plain": [
              "                                          product_name   prices  \\\n",
              "0    HP Core i5 11th Gen - (8 GB/512 GB SSD/Windows...  ₹55,999   \n",
              "1    HP Core i3 11th Gen - (8 GB/512 GB SSD/Windows...  ₹42,990   \n",
              "2    ASUS VivoBook 15 (2021) Core i3 10th Gen - (8 ...  ₹39,990   \n",
              "3    Lenovo IdeaPad 3 Core i3 10th Gen - (8 GB/256 ...  ₹37,490   \n",
              "4    DELL Vostro Core i3 10th Gen - (8 GB/1 TB HDD/...  ₹41,490   \n",
              "..                                                 ...      ...   \n",
              "926  ASUS TUF Dash F15 Core i5 11th Gen - (8 GB/512...  ₹76,940   \n",
              "927  ASUS Vivobook 15 OLED Core i3 11th Gen - (8 GB...  ₹48,990   \n",
              "928  HP Pavilion x360 Core i3 11th Gen - (8 GB/512 ...  ₹56,940   \n",
              "929  HP 15q Ryzen 3 Dual Core 2200U - (4 GB/1 TB HD...  ₹32,917   \n",
              "930  HP Athlon Dual Core 10th Gen - (32 GB/32 GB SS...  ₹26,999   \n",
              "\n",
              "    processor brand     processor name    ram  \\\n",
              "0             Intel            Core i5   8 GB   \n",
              "1             Intel            Core i3   8 GB   \n",
              "2             Intel            Core i3   8 GB   \n",
              "3             Intel            Core i3   8 GB   \n",
              "4             Intel            Core i3   8 GB   \n",
              "..              ...                ...    ...   \n",
              "926           Intel            Core i5   8 GB   \n",
              "927           Intel            Core i3   8 GB   \n",
              "928           Intel            Core i3   8 GB   \n",
              "929             AMD  Ryzen 3 Dual Core   4 GB   \n",
              "930             AMD   Athlon Dual Core  32 GB   \n",
              "\n",
              "                             graphic card operating system  \n",
              "0       Intel Integrated Iris Xe Graphics  Windows 11 Home  \n",
              "1                    Intel Integrated UHD  Windows 11 Home  \n",
              "2                    Intel Integrated UHD  Windows 11 Home  \n",
              "3                    Intel Integrated UHD  Windows 11 Home  \n",
              "4                    Intel Integrated UHD  Windows 11 Home  \n",
              "..                                    ...              ...  \n",
              "926               NVIDIA GeForce RTX 3050  Windows 10 Home  \n",
              "927  Intel Integrated Intel® UHD Graphics  Windows 11 Home  \n",
              "928                  Intel Integrated UHD  Windows 10 Home  \n",
              "929                     AMD Radeon Vega 3  Windows 10 Home  \n",
              "930                                    NA           Chrome  \n",
              "\n",
              "[931 rows x 7 columns]"
            ],
            "text/html": [
              "\n",
              "  <div id=\"df-db9a3987-1526-45c2-8ebe-cd00d792c81d\">\n",
              "    <div class=\"colab-df-container\">\n",
              "      <div>\n",
              "<style scoped>\n",
              "    .dataframe tbody tr th:only-of-type {\n",
              "        vertical-align: middle;\n",
              "    }\n",
              "\n",
              "    .dataframe tbody tr th {\n",
              "        vertical-align: top;\n",
              "    }\n",
              "\n",
              "    .dataframe thead th {\n",
              "        text-align: right;\n",
              "    }\n",
              "</style>\n",
              "<table border=\"1\" class=\"dataframe\">\n",
              "  <thead>\n",
              "    <tr style=\"text-align: right;\">\n",
              "      <th></th>\n",
              "      <th>product_name</th>\n",
              "      <th>prices</th>\n",
              "      <th>processor brand</th>\n",
              "      <th>processor name</th>\n",
              "      <th>ram</th>\n",
              "      <th>graphic card</th>\n",
              "      <th>operating system</th>\n",
              "    </tr>\n",
              "  </thead>\n",
              "  <tbody>\n",
              "    <tr>\n",
              "      <th>0</th>\n",
              "      <td>HP Core i5 11th Gen - (8 GB/512 GB SSD/Windows...</td>\n",
              "      <td>₹55,999</td>\n",
              "      <td>Intel</td>\n",
              "      <td>Core i5</td>\n",
              "      <td>8 GB</td>\n",
              "      <td>Intel Integrated Iris Xe Graphics</td>\n",
              "      <td>Windows 11 Home</td>\n",
              "    </tr>\n",
              "    <tr>\n",
              "      <th>1</th>\n",
              "      <td>HP Core i3 11th Gen - (8 GB/512 GB SSD/Windows...</td>\n",
              "      <td>₹42,990</td>\n",
              "      <td>Intel</td>\n",
              "      <td>Core i3</td>\n",
              "      <td>8 GB</td>\n",
              "      <td>Intel Integrated UHD</td>\n",
              "      <td>Windows 11 Home</td>\n",
              "    </tr>\n",
              "    <tr>\n",
              "      <th>2</th>\n",
              "      <td>ASUS VivoBook 15 (2021) Core i3 10th Gen - (8 ...</td>\n",
              "      <td>₹39,990</td>\n",
              "      <td>Intel</td>\n",
              "      <td>Core i3</td>\n",
              "      <td>8 GB</td>\n",
              "      <td>Intel Integrated UHD</td>\n",
              "      <td>Windows 11 Home</td>\n",
              "    </tr>\n",
              "    <tr>\n",
              "      <th>3</th>\n",
              "      <td>Lenovo IdeaPad 3 Core i3 10th Gen - (8 GB/256 ...</td>\n",
              "      <td>₹37,490</td>\n",
              "      <td>Intel</td>\n",
              "      <td>Core i3</td>\n",
              "      <td>8 GB</td>\n",
              "      <td>Intel Integrated UHD</td>\n",
              "      <td>Windows 11 Home</td>\n",
              "    </tr>\n",
              "    <tr>\n",
              "      <th>4</th>\n",
              "      <td>DELL Vostro Core i3 10th Gen - (8 GB/1 TB HDD/...</td>\n",
              "      <td>₹41,490</td>\n",
              "      <td>Intel</td>\n",
              "      <td>Core i3</td>\n",
              "      <td>8 GB</td>\n",
              "      <td>Intel Integrated UHD</td>\n",
              "      <td>Windows 11 Home</td>\n",
              "    </tr>\n",
              "    <tr>\n",
              "      <th>...</th>\n",
              "      <td>...</td>\n",
              "      <td>...</td>\n",
              "      <td>...</td>\n",
              "      <td>...</td>\n",
              "      <td>...</td>\n",
              "      <td>...</td>\n",
              "      <td>...</td>\n",
              "    </tr>\n",
              "    <tr>\n",
              "      <th>926</th>\n",
              "      <td>ASUS TUF Dash F15 Core i5 11th Gen - (8 GB/512...</td>\n",
              "      <td>₹76,940</td>\n",
              "      <td>Intel</td>\n",
              "      <td>Core i5</td>\n",
              "      <td>8 GB</td>\n",
              "      <td>NVIDIA GeForce RTX 3050</td>\n",
              "      <td>Windows 10 Home</td>\n",
              "    </tr>\n",
              "    <tr>\n",
              "      <th>927</th>\n",
              "      <td>ASUS Vivobook 15 OLED Core i3 11th Gen - (8 GB...</td>\n",
              "      <td>₹48,990</td>\n",
              "      <td>Intel</td>\n",
              "      <td>Core i3</td>\n",
              "      <td>8 GB</td>\n",
              "      <td>Intel Integrated Intel® UHD Graphics</td>\n",
              "      <td>Windows 11 Home</td>\n",
              "    </tr>\n",
              "    <tr>\n",
              "      <th>928</th>\n",
              "      <td>HP Pavilion x360 Core i3 11th Gen - (8 GB/512 ...</td>\n",
              "      <td>₹56,940</td>\n",
              "      <td>Intel</td>\n",
              "      <td>Core i3</td>\n",
              "      <td>8 GB</td>\n",
              "      <td>Intel Integrated UHD</td>\n",
              "      <td>Windows 10 Home</td>\n",
              "    </tr>\n",
              "    <tr>\n",
              "      <th>929</th>\n",
              "      <td>HP 15q Ryzen 3 Dual Core 2200U - (4 GB/1 TB HD...</td>\n",
              "      <td>₹32,917</td>\n",
              "      <td>AMD</td>\n",
              "      <td>Ryzen 3 Dual Core</td>\n",
              "      <td>4 GB</td>\n",
              "      <td>AMD Radeon Vega 3</td>\n",
              "      <td>Windows 10 Home</td>\n",
              "    </tr>\n",
              "    <tr>\n",
              "      <th>930</th>\n",
              "      <td>HP Athlon Dual Core 10th Gen - (32 GB/32 GB SS...</td>\n",
              "      <td>₹26,999</td>\n",
              "      <td>AMD</td>\n",
              "      <td>Athlon Dual Core</td>\n",
              "      <td>32 GB</td>\n",
              "      <td>NA</td>\n",
              "      <td>Chrome</td>\n",
              "    </tr>\n",
              "  </tbody>\n",
              "</table>\n",
              "<p>931 rows × 7 columns</p>\n",
              "</div>\n",
              "      <button class=\"colab-df-convert\" onclick=\"convertToInteractive('df-db9a3987-1526-45c2-8ebe-cd00d792c81d')\"\n",
              "              title=\"Convert this dataframe to an interactive table.\"\n",
              "              style=\"display:none;\">\n",
              "        \n",
              "  <svg xmlns=\"http://www.w3.org/2000/svg\" height=\"24px\"viewBox=\"0 0 24 24\"\n",
              "       width=\"24px\">\n",
              "    <path d=\"M0 0h24v24H0V0z\" fill=\"none\"/>\n",
              "    <path d=\"M18.56 5.44l.94 2.06.94-2.06 2.06-.94-2.06-.94-.94-2.06-.94 2.06-2.06.94zm-11 1L8.5 8.5l.94-2.06 2.06-.94-2.06-.94L8.5 2.5l-.94 2.06-2.06.94zm10 10l.94 2.06.94-2.06 2.06-.94-2.06-.94-.94-2.06-.94 2.06-2.06.94z\"/><path d=\"M17.41 7.96l-1.37-1.37c-.4-.4-.92-.59-1.43-.59-.52 0-1.04.2-1.43.59L10.3 9.45l-7.72 7.72c-.78.78-.78 2.05 0 2.83L4 21.41c.39.39.9.59 1.41.59.51 0 1.02-.2 1.41-.59l7.78-7.78 2.81-2.81c.8-.78.8-2.07 0-2.86zM5.41 20L4 18.59l7.72-7.72 1.47 1.35L5.41 20z\"/>\n",
              "  </svg>\n",
              "      </button>\n",
              "      \n",
              "  <style>\n",
              "    .colab-df-container {\n",
              "      display:flex;\n",
              "      flex-wrap:wrap;\n",
              "      gap: 12px;\n",
              "    }\n",
              "\n",
              "    .colab-df-convert {\n",
              "      background-color: #E8F0FE;\n",
              "      border: none;\n",
              "      border-radius: 50%;\n",
              "      cursor: pointer;\n",
              "      display: none;\n",
              "      fill: #1967D2;\n",
              "      height: 32px;\n",
              "      padding: 0 0 0 0;\n",
              "      width: 32px;\n",
              "    }\n",
              "\n",
              "    .colab-df-convert:hover {\n",
              "      background-color: #E2EBFA;\n",
              "      box-shadow: 0px 1px 2px rgba(60, 64, 67, 0.3), 0px 1px 3px 1px rgba(60, 64, 67, 0.15);\n",
              "      fill: #174EA6;\n",
              "    }\n",
              "\n",
              "    [theme=dark] .colab-df-convert {\n",
              "      background-color: #3B4455;\n",
              "      fill: #D2E3FC;\n",
              "    }\n",
              "\n",
              "    [theme=dark] .colab-df-convert:hover {\n",
              "      background-color: #434B5C;\n",
              "      box-shadow: 0px 1px 3px 1px rgba(0, 0, 0, 0.15);\n",
              "      filter: drop-shadow(0px 1px 2px rgba(0, 0, 0, 0.3));\n",
              "      fill: #FFFFFF;\n",
              "    }\n",
              "  </style>\n",
              "\n",
              "      <script>\n",
              "        const buttonEl =\n",
              "          document.querySelector('#df-db9a3987-1526-45c2-8ebe-cd00d792c81d button.colab-df-convert');\n",
              "        buttonEl.style.display =\n",
              "          google.colab.kernel.accessAllowed ? 'block' : 'none';\n",
              "\n",
              "        async function convertToInteractive(key) {\n",
              "          const element = document.querySelector('#df-db9a3987-1526-45c2-8ebe-cd00d792c81d');\n",
              "          const dataTable =\n",
              "            await google.colab.kernel.invokeFunction('convertToInteractive',\n",
              "                                                     [key], {});\n",
              "          if (!dataTable) return;\n",
              "\n",
              "          const docLinkHtml = 'Like what you see? Visit the ' +\n",
              "            '<a target=\"_blank\" href=https://colab.research.google.com/notebooks/data_table.ipynb>data table notebook</a>'\n",
              "            + ' to learn more about interactive tables.';\n",
              "          element.innerHTML = '';\n",
              "          dataTable['output_type'] = 'display_data';\n",
              "          await google.colab.output.renderOutput(dataTable, element);\n",
              "          const docLink = document.createElement('div');\n",
              "          docLink.innerHTML = docLinkHtml;\n",
              "          element.appendChild(docLink);\n",
              "        }\n",
              "      </script>\n",
              "    </div>\n",
              "  </div>\n",
              "  "
            ]
          },
          "metadata": {},
          "execution_count": 22
        }
      ]
    },
    {
      "cell_type": "code",
      "source": [
        "sdf.to_csv('flipkart_laptops.csv')"
      ],
      "metadata": {
        "id": "q3_BprmKI9pv"
      },
      "execution_count": 23,
      "outputs": []
    },
    {
      "cell_type": "code",
      "source": [
        ""
      ],
      "metadata": {
        "id": "8Qltr8jNJb3E"
      },
      "execution_count": null,
      "outputs": []
    }
  ]
}